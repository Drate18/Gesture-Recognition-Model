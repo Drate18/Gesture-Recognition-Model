{
  "cells": [
    {
      "cell_type": "code",
      "execution_count": null,
      "metadata": {
        "id": "YCHR5xkGLPa_"
      },
      "outputs": [],
      "source": [
        "import torch\n",
        "import torch.nn as nn\n",
        "import torchvision\n",
        "from torchvision import datasets, transforms\n",
        "from torch.utils.data import DataLoader\n",
        "!pip install vit_pytorch\n",
        "from vit_pytorch import ViT\n",
        "import torch.optim as optim\n",
        "import matplotlib.pyplot as plt\n",
        "import numpy as np"
      ]
    },
    {
      "cell_type": "code",
      "execution_count": null,
      "metadata": {
        "id": "J5cvwks4mvyB"
      },
      "outputs": [],
      "source": [
        "device = torch.device(\"cuda\" if torch.cuda.is_available() else \"cpu\")"
      ]
    },
    {
      "cell_type": "code",
      "execution_count": null,
      "metadata": {
        "id": "-ZU0ainEnei0"
      },
      "outputs": [],
      "source": [
        "image_size = 40,\n",
        "patch_size = 4,\n",
        "num_classes = 10,\n",
        "dim = 64,\n",
        "depth = 6,\n",
        "heads = 8,\n",
        "mlp_dim = 128,\n",
        "dropout=0.1,\n",
        "emb_dropout=0.1"
      ]
    },
    {
      "cell_type": "code",
      "execution_count": null,
      "metadata": {
        "id": "VMnceMh7neaz"
      },
      "outputs": [],
      "source": [
        "# Data Augmentation\n",
        "train_transforms = transforms.Compose([\n",
        "    transforms.RandomHorizontalFlip(),\n",
        "    transforms.ToTensor(),\n",
        "    transforms.Normalize((0.5, 0.5, 0.5), (0.5, 0.5, 0.5)),\n",
        "])"
      ]
    },
    {
      "cell_type": "code",
      "execution_count": null,
      "metadata": {
        "id": "84Yk9fYcpJAd"
      },
      "outputs": [],
      "source": [
        "testingTrans = transforms.Compose([\n",
        "    transforms.ToTensor(),\n",
        "    transforms.Normalize((0.5, 0.5, 0.5), (0.5, 0.5, 0.5)),\n",
        "])"
      ]
    },
    {
      "cell_type": "code",
      "execution_count": null,
      "metadata": {
        "id": "8MhoJeT6pPHM"
      },
      "outputs": [],
      "source": [
        "trainset = torchvision.datasets.CIFAR10(root='./data', train=True,download=True, transform=train_transforms)\n",
        "testset = torchvision.datasets.CIFAR10(root='./data', train=False,download=True, transform=testingTrans)"
      ]
    },
    {
      "cell_type": "code",
      "execution_count": null,
      "metadata": {
        "id": "0RfMAAaYpn7E"
      },
      "outputs": [],
      "source": [
        "# Iterating over the datasets using dataloaders\n",
        "batch_size = 4\n",
        "\n",
        "trainloader = DataLoader(trainset, batch_size=batch_size, shuffle=True, num_workers=1, pin_memory=True)\n",
        "testloader = DataLoader(testset, batch_size=batch_size, shuffle=False, num_workers=1, pin_memory=True)"
      ]
    },
    {
      "cell_type": "code",
      "execution_count": null,
      "metadata": {
        "id": "o0bBH8BXp-kY"
      },
      "outputs": [],
      "source": [
        "# ViT model\n",
        "model = ViT(\n",
        "    image_size = 40,\n",
        "    patch_size = 4,\n",
        "    num_classes = 10,\n",
        "    dim = 64,\n",
        "    depth = 6,\n",
        "    heads = 8,\n",
        "    mlp_dim = 128,\n",
        "    dropout=0.1,\n",
        "    emb_dropout=0.1,\n",
        "    channels = 3\n",
        ").to(device)"
      ]
    },
    {
      "cell_type": "code",
      "execution_count": null,
      "metadata": {
        "id": "xxyouHfsrATY"
      },
      "outputs": [],
      "source": [
        "criterion = nn.CrossEntropyLoss(label_smoothing=0.1)\n",
        "optimizer = optim.Adam(model.parameters(),lr = 0.001)"
      ]
    },
    {
      "cell_type": "code",
      "execution_count": null,
      "metadata": {
        "id": "cUIZCAfLuSOQ"
      },
      "outputs": [],
      "source": [
        "for epoch in range(50):\n",
        "    model.train()\n",
        "    train_loss = 0\n",
        "    train_correct = 0\n",
        "    for i, (images, labels) in enumerate(trainloader):\n",
        "\n",
        "        images = images.to(device)\n",
        "        labels = labels.to(device)\n",
        "\n",
        "        optimizer.zero_grad()\n",
        "        outputs = model(images)\n",
        "        loss = criterion(outputs, labels)\n",
        "        loss.backward()\n",
        "        optimizer.step()\n",
        "\n",
        "        train_loss += loss.item() * images.size(0)\n",
        "        _, predicted = torch.max(outputs.data, 1)\n",
        "        train_correct += (predicted == labels).sum().item()\n",
        "\n",
        "        # if (i+1) % 100 == 0:\n",
        "        #     print(f'Epoch [{epoch+1}/{2}], Step [{i+1}/{len(trainloader)}], Loss: {loss.item():.4f}')\n",
        "    \n",
        "    train_loss /= len(trainloader.dataset)\n",
        "    train_acc = 100. * train_correct / len(trainloader.dataset)\n",
        "    print(f'Epoch {epoch + 1}/{50} Training Loss: {train_loss:.6f}, Training Accuracy: {train_acc:.2f}%')\n"
      ]
    },
    {
      "cell_type": "code",
      "source": [
        "model.eval()\n",
        "test_loss = 0\n",
        "test_correct = 0\n",
        "\n",
        "with torch.no_grad():\n",
        "    for images, labels in testloader:\n",
        "        images = images.to(device)\n",
        "        labels = labels.to(device)\n",
        "        outputs = model(images)\n",
        "        loss = criterion(outputs, labels)\n",
        "        test_loss += loss.item() * images.size(0)\n",
        "        _, predicted = torch.max(outputs.data, 1)\n",
        "        test_correct += (predicted == labels).sum().item()\n",
        "\n",
        "test_loss /= len(testloader.dataset)\n",
        "test_acc = 100. * test_correct / len(testloader.dataset)\n",
        "print(f'Test Loss: {test_loss:.6f}, Test Accuracy: {test_acc:.2f}%')"
      ],
      "metadata": {
        "id": "eSEF0A9GMF7g"
      },
      "execution_count": null,
      "outputs": []
    }
  ],
  "metadata": {
    "accelerator": "GPU",
    "colab": {
      "provenance": []
    },
    "gpuClass": "standard",
    "kernelspec": {
      "display_name": "Python 3",
      "name": "python3"
    },
    "language_info": {
      "name": "python"
    }
  },
  "nbformat": 4,
  "nbformat_minor": 0
}